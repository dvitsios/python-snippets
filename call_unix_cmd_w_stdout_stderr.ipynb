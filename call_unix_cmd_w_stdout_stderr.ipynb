{
 "cells": [
  {
   "cell_type": "markdown",
   "metadata": {},
   "source": [
    "### Call Unix command and read STDOUT and STDERR"
   ]
  },
  {
   "cell_type": "code",
   "execution_count": 1,
   "metadata": {},
   "outputs": [
    {
     "name": "stdout",
     "output_type": "stream",
     "text": [
      "STDOUT:\n",
      " ./call_unix_cmd_w_stdout_stderr.ipynb\n",
      "./create_2d_list_w_zeros.ipynb\n",
      "./get_adj_cells_in_2d_array.ipynb\n",
      "\n",
      "STDERR:\n",
      " \n"
     ]
    }
   ],
   "source": [
    "import subprocess\n",
    "\n",
    "# example Unix command\n",
    "cur_dir = '.'\n",
    "cmd = 'ls ' +  cur_dir + '/*.ipynb'\n",
    "\n",
    "# Unix cmd call\n",
    "p = subprocess.Popen(cmd,\n",
    "                        shell=True,\n",
    "                        stdout=subprocess.PIPE,\n",
    "                        stderr=subprocess.PIPE)\n",
    "\n",
    "# p.wait()\n",
    "\n",
    "# read STDOUT and STDERR\n",
    "stdout, stderr = p.communicate()\n",
    "stdout = str(stdout, \"utf-8\")\n",
    "stderr = str(stderr, \"utf-8\")\n",
    "\n",
    "print('STDOUT:\\n', stdout)\n",
    "print('STDERR:\\n', stderr)"
   ]
  }
 ],
 "metadata": {
  "kernelspec": {
   "display_name": "Python 3",
   "language": "python",
   "name": "python3"
  },
  "language_info": {
   "codemirror_mode": {
    "name": "ipython",
    "version": 3
   },
   "file_extension": ".py",
   "mimetype": "text/x-python",
   "name": "python",
   "nbconvert_exporter": "python",
   "pygments_lexer": "ipython3",
   "version": "3.6.4"
  }
 },
 "nbformat": 4,
 "nbformat_minor": 2
}
