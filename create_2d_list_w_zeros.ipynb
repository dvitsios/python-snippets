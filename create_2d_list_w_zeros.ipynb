{
 "cells": [
  {
   "cell_type": "markdown",
   "metadata": {},
   "source": [
    "### Create 2D python list with zeros"
   ]
  },
  {
   "cell_type": "code",
   "execution_count": 1,
   "metadata": {},
   "outputs": [
    {
     "name": "stdout",
     "output_type": "stream",
     "text": [
      "[[0, 0], [0, 0], [0, 0], [0, 0], [0, 0]]\n"
     ]
    }
   ],
   "source": [
    "def create_2d_zero_arr(m, n):\n",
    "    \"\"\"Create 2D python list with zeros\n",
    "    \n",
    "    Args:\n",
    "        m: num. of rows of output zero-matrix\n",
    "        n: num. of columns of output zero-matrix\n",
    "        \n",
    "    Returns:\n",
    "        Return 2D zero-matrix of dimensions `m x n`\n",
    "    \"\"\"\n",
    "    \n",
    "    mat = [ [0] * n for _ in range(m)]\n",
    "    # or equivalently: \n",
    "    # mat = [[0 for col in range(n)] for row in range(m)]\n",
    "    \n",
    "    \n",
    "    return mat\n",
    "\n",
    "print(create_2d_zero_arr(5, 2))\n",
    "\n",
    "# mat = [[0 for col in range(len(matrix[0]))] for row in range(len(matrix))]"
   ]
  }
 ],
 "metadata": {
  "kernelspec": {
   "display_name": "Python 3",
   "language": "python",
   "name": "python3"
  },
  "language_info": {
   "codemirror_mode": {
    "name": "ipython",
    "version": 3
   },
   "file_extension": ".py",
   "mimetype": "text/x-python",
   "name": "python",
   "nbconvert_exporter": "python",
   "pygments_lexer": "ipython3",
   "version": "3.6.4"
  }
 },
 "nbformat": 4,
 "nbformat_minor": 2
}
